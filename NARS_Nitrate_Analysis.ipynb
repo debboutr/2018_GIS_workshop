{
 "cells": [
  {
   "cell_type": "markdown",
   "metadata": {},
   "source": [
    "## Examine NARS table data | [NARS](https://www.epa.gov/national-aquatic-resource-surveys) | [StreamCat](https://www.epa.gov/national-aquatic-resource-surveys/streamcat)"
   ]
  },
  {
   "cell_type": "code",
   "execution_count": null,
   "metadata": {},
   "outputs": [],
   "source": [
    "import os\n",
    "import pandas as pd\n",
    "folder = 'data/nars'\n",
    "for f in os.listdir('./%s' % folder):  # loop through every file in a given directory\n",
    "    if f.split('.')[-1] == 'csv':  # find only CSV's\n",
    "        print ('*************************')\n",
    "        print (f)\n",
    "        if f.split('.')[0] == 'wsa_siteinfo_ts_final':  # load NARS site info into a pandas DataFrame\n",
    "            sites = pd.read_csv('{}/{}'.format(folder,f))"
   ]
  },
  {
   "cell_type": "code",
   "execution_count": null,
   "metadata": {},
   "outputs": [],
   "source": [
    "sites.head()  # look at the first 5 records\n",
    "# sites.columns"
   ]
  },
  {
   "cell_type": "markdown",
   "metadata": {},
   "source": [
    "### * get water chemistry data to merge w/ LAT/LON in site info"
   ]
  },
  {
   "cell_type": "code",
   "execution_count": null,
   "metadata": {},
   "outputs": [],
   "source": [
    "chem = pd.read_csv('{}/waterchemistry.csv'.format(folder))\n",
    "print(chem.columns) #.tolist()\n",
    "chem = chem.loc[(chem.SAMPLED == 'Yes'),:]"
   ]
  },
  {
   "cell_type": "code",
   "execution_count": null,
   "metadata": {
    "scrolled": false
   },
   "outputs": [],
   "source": [
    "print(pd.options.display.max_columns) # default -- 20\n",
    "print(pd.options.display.max_rows) # default -- 60"
   ]
  },
  {
   "cell_type": "code",
   "execution_count": null,
   "metadata": {
    "scrolled": true
   },
   "outputs": [],
   "source": [
    "# pd.options.display.max_rows = 47\n",
    "# chem = chem [['SITE_ID','NO3', 'NH4', 'NTL']]\n",
    "sites.drop_duplicates('SITE_ID', inplace=True)\n",
    "sitechem = pd.merge(sites, chem, on='SITE_ID')\n",
    "sitechem.head()"
   ]
  },
  {
   "cell_type": "code",
   "execution_count": null,
   "metadata": {},
   "outputs": [],
   "source": [
    "print(len(sites))\n",
    "print(len(chem))\n",
    "print(len(sitechem))"
   ]
  },
  {
   "cell_type": "code",
   "execution_count": null,
   "metadata": {},
   "outputs": [],
   "source": [
    "% matplotlib notebook \n",
    "sitechem['EPAREGION'].value_counts().plot(kind='bar', title=\"How many NARS sites in each EPA REGION?\", figsize=(4,3), rot=47)"
   ]
  },
  {
   "cell_type": "markdown",
   "metadata": {},
   "source": [
    "#### What is an [EPA REGION](https://www.epa.gov/aboutepa/visiting-regional-office)??"
   ]
  },
  {
   "cell_type": "code",
   "execution_count": null,
   "metadata": {},
   "outputs": [],
   "source": [
    "sitechem[['LON_DD','LAT_DD']].head()  # use these columns for point geometry"
   ]
  },
  {
   "cell_type": "code",
   "execution_count": null,
   "metadata": {},
   "outputs": [],
   "source": [
    "import geopandas as gpd\n",
    "from shapely.geometry import Point\n",
    "\n",
    "geometry = [Point(xy) for xy in zip(sitechem.LON_DD, sitechem.LAT_DD)]  # list comprehension to create geometries\n",
    "crs = {'init': 'epsg:4326'}  # initialize the CRS with a dictionary\n",
    "gdf = gpd.GeoDataFrame(sitechem, crs=crs, geometry=geometry)  "
   ]
  },
  {
   "cell_type": "code",
   "execution_count": null,
   "metadata": {
    "scrolled": true
   },
   "outputs": [],
   "source": [
    "gdf.loc[:5,:].plot()"
   ]
  },
  {
   "cell_type": "code",
   "execution_count": null,
   "metadata": {},
   "outputs": [],
   "source": [
    "print(gdf.unary_union.bounds) # Another way to get to the center of your data\n",
    "extent = gdf.unary_union.bounds\n",
    "lat_Center = (extent[1] + extent[3]) / 2\n",
    "lon_Center = (extent[0] + extent[2]) / 2"
   ]
  },
  {
   "cell_type": "code",
   "execution_count": null,
   "metadata": {},
   "outputs": [],
   "source": [
    "import folium\n",
    "from folium import plugins\n",
    "\n",
    "nars_map = folium.Map(location=[lat_Center, lon_Center], \n",
    "                        tiles      = (\"https://api.mapbox.com/styles/v1/mapbox/\"\n",
    "                                       \"streets-v10/tiles/256/{z}/{x}/{y}?access_token=\"\n",
    "                                       \"pk.eyJ1IjoiZGFyYW9iZWlybmUiLCJhIjoidlV2WXZKRSJ9.EwVOY6b8UeyIz3N2UAu5pw\"),\n",
    "                        zoom_start = 4,\n",
    "                        attr       = '© Mapbox')\n",
    "marker_cluster = plugins.MarkerCluster().add_to(nars_map)\n",
    "\n",
    "# for name, row in sitechem.iterrows():\n",
    "for name, row in sitechem.ix[:470].iterrows():  # loop through every row to add each point to map w/ a popup\n",
    "    x, y = row['LON_DD'],row['LAT_DD']\n",
    "    \n",
    "    html=\"\"\"\n",
    "        <style>\n",
    "            h4 { \n",
    "              color: white;\n",
    "              background-color: #303030;\n",
    "              text-align:center;\n",
    "              margin-bottom:0;\n",
    "            }\n",
    "            table {\n",
    "              border: \"1\";\n",
    "              margin: 0px auto;\n",
    "              width: 283px;\n",
    "            }\n",
    "            tr {\n",
    "              background-color:grey;\n",
    "              text-align: center;\n",
    "            }\n",
    "            .nitrate {\n",
    "              background-color:yellow;\n",
    "            }             \n",
    "        </style>\n",
    "        <h4>SITE_ID: %s</h4>\n",
    "        <table>\n",
    "          <tr class=\"nitrate\">\n",
    "              <td>Nitrate (ueq/L): </td>\n",
    "              <td>%s</td>\n",
    "          </tr>\n",
    "          <tr>\n",
    "              <td>Ammonium (ueq/L): </td>\n",
    "              <td>%s</td>\n",
    "          </tr>          \n",
    "          <tr>\n",
    "              <td>Total Nitrogen (ug/L): </td>\n",
    "              <td>%s</td>\n",
    "          </tr>      \n",
    "        </table>\n",
    "    \"\"\" % (row.SITE_ID, row.NO3, row.NH4, row.NTL)\n",
    "     \n",
    "    iframe = folium.IFrame(html=html, width=300, height=120)\n",
    "    folium.Marker([y, x], popup=folium.Popup(iframe)).add_to(marker_cluster)\n",
    "\n",
    "\n",
    "# nars_map.save('maps/nars_map.html')  #saves nars_map.html in the working directory\n",
    "nars_map"
   ]
  },
  {
   "cell_type": "markdown",
   "metadata": {},
   "source": [
    "### What is this?"
   ]
  },
  {
   "cell_type": "code",
   "execution_count": null,
   "metadata": {},
   "outputs": [],
   "source": [
    "import this"
   ]
  },
  {
   "cell_type": "code",
   "execution_count": null,
   "metadata": {},
   "outputs": [],
   "source": []
  }
 ],
 "metadata": {
  "kernelspec": {
   "display_name": "Python [conda env:gis-test]",
   "language": "python",
   "name": "conda-env-gis-test-py"
  },
  "language_info": {
   "codemirror_mode": {
    "name": "ipython",
    "version": 3
   },
   "file_extension": ".py",
   "mimetype": "text/x-python",
   "name": "python",
   "nbconvert_exporter": "python",
   "pygments_lexer": "ipython3",
   "version": "3.6.4"
  }
 },
 "nbformat": 4,
 "nbformat_minor": 2
}
