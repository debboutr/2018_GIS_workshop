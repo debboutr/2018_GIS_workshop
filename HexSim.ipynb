{
 "cells": [
  {
   "cell_type": "markdown",
   "metadata": {},
   "source": [
    "# [HexSim](http://www.hexsim.net/) visualiztions\n",
    "\n",
    "* reproject a shapefile w/ geopandas\n",
    "* write out geojson\n",
    "* use styling to improve output"
   ]
  },
  {
   "cell_type": "code",
   "execution_count": null,
   "metadata": {},
   "outputs": [],
   "source": [
    "from IPython.display import display\n",
    "import geopandas as gpd\n",
    "hexes = gpd.read_file('data/hexsim/hexes2.shp')"
   ]
  },
  {
   "cell_type": "code",
   "execution_count": null,
   "metadata": {
    "scrolled": true
   },
   "outputs": [],
   "source": [
    "display(hexes.head())\n",
    "% matplotlib inline\n",
    "hexes.plot()"
   ]
  },
  {
   "cell_type": "code",
   "execution_count": null,
   "metadata": {},
   "outputs": [],
   "source": [
    "print(hexes.crs)\n",
    "hexes.to_crs({'init':'epsg:4326'}, inplace=True)\n",
    "print(hexes.crs)\n",
    "hexes.to_file('data/hexsim/hexes2.json', driver='GeoJSON')"
   ]
  },
  {
   "cell_type": "code",
   "execution_count": null,
   "metadata": {},
   "outputs": [],
   "source": [
    "extent = hexes.unary_union.bounds\n",
    "lat_Center = (extent[1] + extent[3]) / 2\n",
    "lon_Center = (extent[0] + extent[2]) / 2\n",
    "print(lat_Center,lon_Center)"
   ]
  },
  {
   "cell_type": "code",
   "execution_count": null,
   "metadata": {},
   "outputs": [],
   "source": [
    "import pandas as pd\n",
    "heat = pd.read_csv('data/hexsim/hex_temp.csv')\n",
    "heat.drop(['CWR_ID','SIZE_RANK'],axis=1,inplace=True)\n",
    "heat.head()"
   ]
  },
  {
   "cell_type": "code",
   "execution_count": null,
   "metadata": {},
   "outputs": [],
   "source": [
    "dep = pd.read_csv('data/hexsim/reach1_500_depth_m.csv')\n",
    "len(dep)"
   ]
  },
  {
   "cell_type": "code",
   "execution_count": null,
   "metadata": {},
   "outputs": [],
   "source": [
    "hexes = hexes.merge(dep, on='Hex_ID')\n",
    "hexes = hexes.merge(heat, on='Hex_ID')"
   ]
  },
  {
   "cell_type": "code",
   "execution_count": null,
   "metadata": {},
   "outputs": [],
   "source": [
    "import folium\n",
    "from folium import plugins\n",
    "\n",
    "hex_map = folium.Map(location=[lat_Center,lon_Center], \n",
    "                               tiles=\"Stamen Terrain\", \n",
    "                               zoom_start=15)\n",
    "\n",
    "geojson = folium.GeoJson('./data/hexsim/hexes2.json', \n",
    "                            name='Hexes')\n",
    "\n",
    "hex_map.add_child(geojson)\n",
    "folium.LayerControl().add_to(hex_map)\n",
    "plugins.FloatImage('https://debboutr.github.io/epa_clipped.png', bottom=74, left=8).add_to(hex_map)\n",
    "\n",
    "hex_map"
   ]
  },
  {
   "cell_type": "code",
   "execution_count": null,
   "metadata": {},
   "outputs": [],
   "source": [
    "m = folium.Map(\n",
    "    location=[lat_Center,lon_Center],\n",
    "    tiles='Stamen Terrain',\n",
    "    zoom_start=15)\n",
    "\n",
    "m.choropleth(\n",
    "    geo_data='./data/hexsim/hexes2.json',\n",
    "    data=pd.read_csv('./data/hexsim/reach1_500_depth_m.csv'),\n",
    "    columns=['Hex_ID','Depth_m'],\n",
    "    key_on='feature.properties.Hex_ID',\n",
    "    name='Hexes',\n",
    "    fill_color='YlOrRd',\n",
    "    fill_opacity=0.7,\n",
    "    line_opacity=0.2,\n",
    "#     line_color='white',\n",
    "#     highlight=True,\n",
    "    legend_name='Depth (m)')\n",
    "\n",
    "folium.LayerControl().add_to(m)\n",
    "# m.save('./maps/hex_depth.html')\n",
    "m"
   ]
  },
  {
   "cell_type": "code",
   "execution_count": null,
   "metadata": {},
   "outputs": [],
   "source": [
    "hex_map = folium.Map(location=[lat_Center,lon_Center], \n",
    "                               tiles=(\"https://api.mapbox.com/styles/v1/mapbox/satellite-v9/tiles/256/{z}/{x}/{y}?\"\n",
    "                                      \"access_token=pk.eyJ1IjoiZGFyYW9iZWlybmUiLCJhIjoidlV2WXZKRSJ9.\"\n",
    "                                      \"EwVOY6b8UeyIz3N2UAu5pw\"), \n",
    "                               zoom_start=14, attr='@Mapbox')\n",
    "\n",
    "json = folium.GeoJson('./data/hexsim/hexes2.json', \n",
    "                      name='Hexes',\n",
    "                      style_function=lambda x: {     'fillColor' :'red', \n",
    "                                                  'fill_opacity' : 0.47, \n",
    "                                                         'color' : 'green',\n",
    "                                                        'weight' : 1},\n",
    "                      highlight_function= lambda x: {'fillColor' : 'blue',\n",
    "#                                                          'color' : 'yellow',\n",
    "                                                        'weight' : 3})\n",
    "\n",
    "hex_map.add_child(json)\n",
    "\n",
    "html_code = ('<style>'\n",
    "         '#title{'\n",
    "             'position: fixed;'\n",
    "             'bottom: 50px;'\n",
    "             'left: 50px;'\n",
    "             'width:33%;'\n",
    "             'z-index:9999;'\n",
    "             'background-color: #D3D3D3;'\n",
    "             'border-radius: 25px;'\n",
    "             'border: 3px solid #000000;'\n",
    "             'opacity: 0.74;'\n",
    "         '}'\n",
    "         '.center {'\n",
    "            'display: block;'\n",
    "            'margin-left: auto;'\n",
    "            'margin-right: auto;'\n",
    "\n",
    "         '}'\n",
    "     '</style>'     \n",
    "     '<div id=\"title\">'\n",
    "        '<br>'     \n",
    "        '<img src=\"https://debboutr.github.io/epa_small.png\" alt=\"no_bueno\" class=\"center\">'\n",
    "        '<a href=\"http://www.hexsim.net/\" target=\"_blank\"><h3 style=\"color:#000000; text-align: center;\">Hex Sim</h3></a>'\n",
    "        '<p style=\"text-align:center;\">HexSim is a free, versatile, multi-species, life history simulator ideal for building models '\n",
    "             'of animal and plant population viability, interactions, and responses to disturbance. HexSim '\n",
    "             'models are spatially-explicit and individual-based, and HexSim individuals can be assigned '\n",
    "             'dynamic life history traits. HexSim also includes a full genetics sub-model, making it a '\n",
    "             'true eco-evo simulator. </p>'\n",
    "     '</div>')\n",
    "\n",
    "elem = folium.Element(html_code)\n",
    "hex_map.get_root().html.add_child(elem)\n",
    "\n",
    "# hex_map.save(\"watermap.html\")\n",
    "hex_map"
   ]
  },
  {
   "cell_type": "code",
   "execution_count": null,
   "metadata": {},
   "outputs": [],
   "source": []
  }
 ],
 "metadata": {
  "kernelspec": {
   "display_name": "Python [conda env:gis-test]",
   "language": "python",
   "name": "conda-env-gis-test-py"
  },
  "language_info": {
   "codemirror_mode": {
    "name": "ipython",
    "version": 3
   },
   "file_extension": ".py",
   "mimetype": "text/x-python",
   "name": "python",
   "nbconvert_exporter": "python",
   "pygments_lexer": "ipython3",
   "version": "3.6.4"
  }
 },
 "nbformat": 4,
 "nbformat_minor": 2
}
