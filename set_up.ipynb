{
 "cells": [
  {
   "cell_type": "code",
   "execution_count": null,
   "metadata": {},
   "outputs": [],
   "source": []
  },
  {
   "cell_type": "markdown",
   "metadata": {},
   "source": [
    "*SMU_workshop*\n",
    "start w/ catchments, full\n",
    "get centroids\n",
    "plot\n",
    "get NARS data\n",
    "make shp from  csv\n",
    "heatmap from NARS of NO3\n",
    "\n",
    "plot together with mike's catchment summarizations\n",
    "\n",
    "2 NBs one that shows the analysis, the other steps through it\n",
    "    * analysis just shows folium output along with explanations\n",
    "    * steps NB shows:\n",
    "        * DL NARS all\n",
    "        * print tables ( cmd line )\n",
    "        * access to envs through User local, \n",
    "CREATE --\n",
    "    instruction in Anacona NB on Anaconda \n",
    "\n",
    "#! DL github repo -- extract/navigate cmd to there\n",
    "\n",
    "SETUP --\n",
    "    DL Anaconda -- use curl??\n",
    "    install -- figure commands  for install\n",
    "    \n",
    "RUN --\n",
    "    conda info -- ?? where does conda envs install -- python version 2.7.12.final.0!\n",
    "    conda add channel ioos\n",
    "    conda create -n gis jupyter geopandas folium spyder\n",
    "    ####### should prompt for Y, hit enter\n",
    "    activate gis\n",
    "#! LEAVE WINDOWS OPEN\n",
    "BEGIN --\n",
    "    show abspath in cell -- explain how relativ/abs differ\n",
    "    DL NARS data -- extract inside 2018_GIS_workshop\n",
    "   \n",
    "   ### Download [Anaconda](https://www.anaconda.com/download)\n",
    "### Download [git](https://git-scm.com/download/win)\n",
    "\n",
    "### Download [2018_GIS_workshop](https://github.com/debboutr/2018_GIS_workshop)\n",
    "\n",
    "** steps for anaconda install **\n",
    "\n",
    "DL [NARS data]() do Ctrl + F here a search for 'all' then arrow down to:\n",
    "    \n",
    "   **| Survey | Indicator | Data | Metadata |**\n",
    "   \n",
    "   **| Streams 2004-2005 | All | WSA All Data (ZIP)(1 pg, 7 MB) | |**\n",
    "   \n",
    "### click the '.zip' link for a folder of all tables\n",
    "\n",
    "### open spyder w/ 'super' key  #! navigate to \n",
    "### open in cmd w/ spyder --new-instance\n",
    "\n",
    "\n",
    "print tree of local dir"
   ]
  },
  {
   "cell_type": "code",
   "execution_count": null,
   "metadata": {},
   "outputs": [],
   "source": []
  }
 ],
 "metadata": {
  "kernelspec": {
   "display_name": "Python [conda env:gis]",
   "language": "python",
   "name": "conda-env-gis-py"
  },
  "language_info": {
   "codemirror_mode": {
    "name": "ipython",
    "version": 2
   },
   "file_extension": ".py",
   "mimetype": "text/x-python",
   "name": "python",
   "nbconvert_exporter": "python",
   "pygments_lexer": "ipython2",
   "version": "2.7.14"
  }
 },
 "nbformat": 4,
 "nbformat_minor": 2
}
