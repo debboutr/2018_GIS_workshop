{
 "cells": [
  {
   "cell_type": "markdown",
   "metadata": {},
   "source": [
    "## Data for this map downloaded from the [Water Quality Portal](https://www.waterqualitydata.us/) by Mike Papenfus, EPA\n",
    "### Time Series Heatmap "
   ]
  },
  {
   "cell_type": "code",
   "execution_count": null,
   "metadata": {},
   "outputs": [],
   "source": [
    "import pandas as pd\n",
    "tbl = pd.read_csv('data/chlor_a/chl_80_15.csv')\n",
    "tbl.head()"
   ]
  },
  {
   "cell_type": "markdown",
   "metadata": {},
   "source": [
    "### * use the .apply() function to format date, not needed here, but useful"
   ]
  },
  {
   "cell_type": "code",
   "execution_count": null,
   "metadata": {},
   "outputs": [],
   "source": [
    "tbl['Date'] = tbl.apply(lambda x: str(x.year)+'-'+str(x.month)+'-'+str(x.day), axis=1)\n",
    "# tbl.apply?\n",
    "tbl.Date.head()"
   ]
  },
  {
   "cell_type": "code",
   "execution_count": null,
   "metadata": {},
   "outputs": [],
   "source": [
    "print(tbl.year.min())\n",
    "print(tbl.year.max())\n",
    "len(tbl.year.unique())  # you can only console out a single value when running a cell!"
   ]
  },
  {
   "cell_type": "code",
   "execution_count": null,
   "metadata": {},
   "outputs": [],
   "source": [
    "for i, j in tbl.groupby('year'):\n",
    "    print(type(i))\n",
    "    print(type(j))\n",
    "    break"
   ]
  },
  {
   "cell_type": "code",
   "execution_count": null,
   "metadata": {},
   "outputs": [],
   "source": [
    "data = []  # create a list of lists with all of the points in a given year\n",
    "time_index = []  # used to append every year into a list for the index of the time series\n",
    "for idx, frame in tbl.groupby('year'):  # groupby generates a tuple w/ (index <year>, DataFrame <year==i>)\n",
    "#     print(idx)\n",
    "#     print('****')\n",
    "    time_index.append(idx)\n",
    "    group_data = []\n",
    "    for _, rec in frame.iterrows():  # iterate every row in the DataFrame of the given year, append each lat/lon\n",
    "        group_data.append([rec.LatitudeMeasure,rec.LongitudeMeasure])\n",
    "    data.append(group_data)"
   ]
  },
  {
   "cell_type": "code",
   "execution_count": null,
   "metadata": {},
   "outputs": [],
   "source": [
    "len(data)"
   ]
  },
  {
   "cell_type": "markdown",
   "metadata": {},
   "source": [
    "### [The GEOGRAPHIC CENTER of the UNITED STATES](https://en.wikipedia.org/wiki/Geographic_center_of_the_contiguous_United_States)\n",
    "\n",
    "* LAT. 39°50' LONG. -98°35'"
   ]
  },
  {
   "cell_type": "code",
   "execution_count": null,
   "metadata": {},
   "outputs": [],
   "source": [
    "lat = 39 + (50/60)\n",
    "lon = -98 - (35/60)\n",
    "print(lat,lon)"
   ]
  },
  {
   "cell_type": "code",
   "execution_count": null,
   "metadata": {},
   "outputs": [],
   "source": [
    "import folium\n",
    "from folium import plugins\n",
    "\n",
    "heat_map = folium.Map(location=[lat,lon],\n",
    "                    zoom_start = 4)\n",
    "\n",
    "hm = plugins.HeatMapWithTime(data,\n",
    "                            index=time_index,\n",
    "                            auto_play=True,)\n",
    "\n",
    "hm.add_to(heat_map)\n",
    "\n",
    "heat_map.save(\"maps/chlor_a_heatmap.html\")"
   ]
  },
  {
   "cell_type": "code",
   "execution_count": null,
   "metadata": {},
   "outputs": [],
   "source": []
  }
 ],
 "metadata": {
  "kernelspec": {
   "display_name": "Python [conda env:gis-test]",
   "language": "python",
   "name": "conda-env-gis-test-py"
  },
  "language_info": {
   "codemirror_mode": {
    "name": "ipython",
    "version": 3
   },
   "file_extension": ".py",
   "mimetype": "text/x-python",
   "name": "python",
   "nbconvert_exporter": "python",
   "pygments_lexer": "ipython3",
   "version": "3.6.4"
  }
 },
 "nbformat": 4,
 "nbformat_minor": 2
}
